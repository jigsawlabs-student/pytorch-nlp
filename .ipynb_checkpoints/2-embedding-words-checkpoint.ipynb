{
 "cells": [
  {
   "cell_type": "markdown",
   "metadata": {},
   "source": [
    "# Word Embeddings"
   ]
  },
  {
   "cell_type": "markdown",
   "metadata": {},
   "source": [
    "### Introduction\n",
    "\n",
    "In this lesson, we'll consider different ways that we can represent an NLP dataset so that it can be used by a machine learning algorithm.  So far, we have seen relatively simple ways for translating text into something numerical.  Essentially, we represented each word in our corpus by a different feature, and then indicated how important that word was to a document either by it's frequency (as in bag of words), or it's `term frequency` * `inverse document frequency`.\n",
    "\n",
    "With either our bag of words or `tfidf` representation, each word is a separate basis vector, and thus linearly independent of each of the other words."
   ]
  },
  {
   "cell_type": "markdown",
   "metadata": {},
   "source": [
    "<img src=\"./car-nlp.png\" width=\"60%\">"
   ]
  },
  {
   "cell_type": "markdown",
   "metadata": {},
   "source": [
    "This technique has a couple of significant issues:\n",
    "\n",
    "1. Sparse vectors\n",
    "* The first is that with each additional word in our corpus, we need an additional feature.  More problematic is that some of these words will rarely occur, so it can become difficult to determine the significance of a word with relatively few training examples.\n",
    "\n",
    "2. Unrelated words\n",
    "\n",
    "Another issue is that with each word represented as a separate dimension, we cannot tell the relationship between words. That is, we *do* think of words as being related to other words.  And even being combinations of other words, or qualities.\n",
    "\n",
    "In this lesson, we'll see how we can represent each *word* as a vector of attributes with word embeddings. "
   ]
  },
  {
   "cell_type": "markdown",
   "metadata": {},
   "source": [
    "### Representing Words"
   ]
  },
  {
   "cell_type": "markdown",
   "metadata": {},
   "source": [
    "Now the idea of word embeddings is to represent words by some deeper underlying meaning.  For example, let's say we represent the words `king`, `queen`, and `president` with the following vectors:"
   ]
  },
  {
   "cell_type": "code",
   "execution_count": 5,
   "metadata": {},
   "outputs": [],
   "source": [
    "king = [1, 1400, 2]\n",
    "queen = [0, 1400, 3]\n",
    "president = [.7, 1900, 1]\n",
    "prime_minister = [.6, 1900, 2]"
   ]
  },
  {
   "cell_type": "markdown",
   "metadata": {},
   "source": [
    "Above, the first coordinate could represent the sex of associated with the word, a 1 for male and 0 for female.  The second coordinate represents the time period associated with the word, and the third represents the geography associated with the word (U.S. vs Europe)."
   ]
  },
  {
   "cell_type": "markdown",
   "metadata": {},
   "source": [
    "One benefit with this representation of words is that our vectors are no longer completely independent of each other.  Instead, they have components of the other words.  So now, we can see that King and Queen appear more related than King and Prime Minister.\n",
    "\n",
    "In addition, we can now represent our corpus with fewer dimensions.  Previously, we essentially had a one hot encoding to represent each word, where every word is assigned an index.  With English having over 1 million words, this leads to a lot of dimensions.  With word embeddings, the number of dimensions ranges between 50 and 300 for each word.  And because our vectors are not perpendicular to one another, we can calculate how similar words are by calculating their closeness to each other."
   ]
  },
  {
   "cell_type": "markdown",
   "metadata": {},
   "source": [
    "### Real World Embeddings"
   ]
  },
  {
   "cell_type": "markdown",
   "metadata": {},
   "source": [
    "Now let's see how we can work with embeddings in Pytorch.  Pytorch makes available for different libraries of pretrained embeddings that allow us to represent our words with word embeddings.  Ok, let's once again download our IMDB dataset with torchtext."
   ]
  },
  {
   "cell_type": "code",
   "execution_count": 40,
   "metadata": {},
   "outputs": [
    {
     "name": "stderr",
     "output_type": "stream",
     "text": [
      "/Users/jeff/opt/anaconda3/lib/python3.7/site-packages/torchtext/data/field.py:150: UserWarning: Field class will be retired in the 0.8.0 release and moved to torchtext.legacy. Please see 0.7.0 release notes for further information.\n",
      "  warnings.warn('{} class will be retired in the 0.8.0 release and moved to torchtext.legacy. Please see 0.7.0 release notes for further information.'.format(self.__class__.__name__), UserWarning)\n"
     ]
    }
   ],
   "source": [
    "from torchtext import datasets, data\n",
    "import torch\n",
    "\n",
    "TEXT = data.Field(tokenize = 'spacy')\n",
    "LABEL = data.LabelField(dtype = torch.float)\n",
    "\n",
    "train_data, test_data = datasets.IMDB.splits(TEXT, LABEL)"
   ]
  },
  {
   "cell_type": "markdown",
   "metadata": {},
   "source": [
    "Ok, now this time when we build vocab we'll pass through an argument of `vectors = \"glove.6B.100d\"`."
   ]
  },
  {
   "cell_type": "code",
   "execution_count": 41,
   "metadata": {},
   "outputs": [],
   "source": [
    "MAX_VOCAB_SIZE = 25_000\n",
    "\n",
    "TEXT.build_vocab(train_data, \n",
    "                 max_size = MAX_VOCAB_SIZE, \n",
    "                 vectors = \"glove.6B.100d\", \n",
    "                 unk_init = torch.Tensor.normal_)"
   ]
  },
  {
   "cell_type": "code",
   "execution_count": 15,
   "metadata": {},
   "outputs": [],
   "source": [
    "LABEL.build_vocab(train_data)"
   ]
  },
  {
   "cell_type": "markdown",
   "metadata": {},
   "source": [
    "> Now downloading the glove library takes both time and a significant amount of space on a computer.  If you wish to delete the file look in the hidden `.vector_cache` folder, located in the your current folder.  If you wish to reuse the your local glove library, simply specify the name of the file to reference."
   ]
  },
  {
   "cell_type": "markdown",
   "metadata": {},
   "source": [
    "Now the way embeddings work is a bit of a two step.  Each word is assigned a separate index, just like before.  But then torchtext will use this index to find the 100 dimensional vector related to the word.  Let's see this."
   ]
  },
  {
   "cell_type": "markdown",
   "metadata": {},
   "source": [
    "> We can again use string to integer to find the related index."
   ]
  },
  {
   "cell_type": "code",
   "execution_count": 73,
   "metadata": {},
   "outputs": [
    {
     "data": {
      "text/plain": [
       "1124"
      ]
     },
     "execution_count": 73,
     "metadata": {},
     "output_type": "execute_result"
    }
   ],
   "source": [
    "TEXT.vocab.stoi['dog']"
   ]
  },
  {
   "cell_type": "markdown",
   "metadata": {},
   "source": [
    "And then from there, we can use this index to find the related vector."
   ]
  },
  {
   "cell_type": "code",
   "execution_count": 74,
   "metadata": {},
   "outputs": [
    {
     "data": {
      "text/plain": [
       "torch.Size([100])"
      ]
     },
     "execution_count": 74,
     "metadata": {},
     "output_type": "execute_result"
    }
   ],
   "source": [
    "TEXT.vocab.vectors[1124].shape"
   ]
  },
  {
   "cell_type": "markdown",
   "metadata": {},
   "source": [
    "We can calculate how similar a word is to another word simply by looking at the distance between two words."
   ]
  },
  {
   "cell_type": "code",
   "execution_count": 75,
   "metadata": {},
   "outputs": [
    {
     "data": {
      "text/plain": [
       "tensor([0.7236])"
      ]
     },
     "execution_count": 75,
     "metadata": {},
     "output_type": "execute_result"
    }
   ],
   "source": [
    "puppy_vec = TEXT.vocab.vectors[TEXT.vocab.stoi['puppy']]\n",
    "dog_vec = TEXT.vocab.vectors[TEXT.vocab.stoi['dog']]\n",
    "\n",
    "torch.cosine_similarity(puppy_vec.unsqueeze(0), dog_vec.unsqueeze(0))"
   ]
  },
  {
   "cell_type": "code",
   "execution_count": 76,
   "metadata": {},
   "outputs": [],
   "source": [
    "banana_vec = TEXT.vocab.vectors[TEXT.vocab.stoi['banana']]"
   ]
  },
  {
   "cell_type": "code",
   "execution_count": 77,
   "metadata": {},
   "outputs": [
    {
     "data": {
      "text/plain": [
       "tensor([0.2448])"
      ]
     },
     "execution_count": 77,
     "metadata": {},
     "output_type": "execute_result"
    }
   ],
   "source": [
    "torch.cosine_similarity(puppy_vec.unsqueeze(0), banana_vec.unsqueeze(0))"
   ]
  },
  {
   "cell_type": "markdown",
   "metadata": {},
   "source": [
    "If we were to plot different words, we would see that words that we think of being more closely related are more closely related in our multidimensional space."
   ]
  },
  {
   "cell_type": "markdown",
   "metadata": {},
   "source": [
    "<img src=\"./word2vec-img.png\" width=\"60%\">"
   ]
  },
  {
   "cell_type": "markdown",
   "metadata": {},
   "source": [
    "### Summary"
   ]
  },
  {
   "cell_type": "markdown",
   "metadata": {},
   "source": [
    "In this lesson, we saw the benefits of using words vectors as opposed to one hot encoding to numericalize our text.  We saw that by using word vectors, we replace our sparse vectors with dense vectors.  And we saw that   "
   ]
  },
  {
   "cell_type": "markdown",
   "metadata": {},
   "source": [
    "# Using Embeddings in A Neural Network"
   ]
  },
  {
   "cell_type": "markdown",
   "metadata": {},
   "source": [
    "Now we may be wondering how we can incorporate an embedding into a neural network.  It turns out that Pytorch has an embedding library already built for us.  Let's see how it works."
   ]
  },
  {
   "cell_type": "markdown",
   "metadata": {},
   "source": [
    "We'll initialize an embedding layer with a size equal to the number of words vocabulary, and an embedding dimension of 100 for the 100 length vectors that we have."
   ]
  },
  {
   "cell_type": "code",
   "execution_count": 9,
   "metadata": {},
   "outputs": [],
   "source": [
    "input_dim = len(TEXT.vocab.itos)\n",
    "embedding_dim = 100"
   ]
  },
  {
   "cell_type": "code",
   "execution_count": 10,
   "metadata": {},
   "outputs": [],
   "source": [
    "embedding = nn.Embedding(input_dim, embedding_dim)"
   ]
  },
  {
   "cell_type": "markdown",
   "metadata": {},
   "source": [
    "Now, what's interesting is that if we pass through some text to the embedding layer we get back the embedded vectors.  Let's see this."
   ]
  },
  {
   "cell_type": "markdown",
   "metadata": {},
   "source": [
    "> First we'll batch our data, and then select the first batch."
   ]
  },
  {
   "cell_type": "code",
   "execution_count": 16,
   "metadata": {},
   "outputs": [],
   "source": [
    "train_iterator, test_iterator = data.BucketIterator.splits(\n",
    "    (train_data, test_data), \n",
    "    batch_size = 64)\n",
    "\n",
    "for batch in train_iterator:\n",
    "    first_batch = batch\n",
    "    break"
   ]
  },
  {
   "cell_type": "markdown",
   "metadata": {},
   "source": [
    "We see that in our first batch we have 64 documents each with 832 tokens represented."
   ]
  },
  {
   "cell_type": "code",
   "execution_count": 36,
   "metadata": {},
   "outputs": [
    {
     "data": {
      "text/plain": [
       "torch.Size([832, 64])"
      ]
     },
     "execution_count": 36,
     "metadata": {},
     "output_type": "execute_result"
    }
   ],
   "source": [
    "first_batch.text.shape"
   ]
  },
  {
   "cell_type": "markdown",
   "metadata": {},
   "source": [
    "Then notice how the shape changes if we pass this through our embedding."
   ]
  },
  {
   "cell_type": "code",
   "execution_count": 27,
   "metadata": {},
   "outputs": [
    {
     "data": {
      "text/plain": [
       "torch.Size([1, 832, 64, 100])"
      ]
     },
     "execution_count": 27,
     "metadata": {},
     "output_type": "execute_result"
    }
   ],
   "source": [
    "embedded = embedding(first_batch.text.unsqueeze(0))\n",
    "embedded.shape"
   ]
  },
  {
   "cell_type": "markdown",
   "metadata": {},
   "source": [
    "So we can see that originally we had 64 documents, of 832 words each, and now each of those 832 words are represented by a vector of length 100.  So for example, if we wished to see how just the first document was represented, it would look like the following."
   ]
  },
  {
   "cell_type": "code",
   "execution_count": 37,
   "metadata": {},
   "outputs": [],
   "source": [
    "first_document = embedded[0][:, 0, :]"
   ]
  },
  {
   "cell_type": "code",
   "execution_count": 38,
   "metadata": {},
   "outputs": [
    {
     "data": {
      "text/plain": [
       "torch.Size([832, 100])"
      ]
     },
     "execution_count": 38,
     "metadata": {},
     "output_type": "execute_result"
    }
   ],
   "source": [
    "first_document.shape"
   ]
  },
  {
   "cell_type": "markdown",
   "metadata": {},
   "source": [
    "### Using the Glove Model"
   ]
  },
  {
   "cell_type": "markdown",
   "metadata": {},
   "source": [
    "Now there's just one issue with the above: our embedding is full of randomly initialized vectors."
   ]
  },
  {
   "cell_type": "code",
   "execution_count": 45,
   "metadata": {},
   "outputs": [
    {
     "data": {
      "text/plain": [
       "torch.Size([25002, 100])"
      ]
     },
     "execution_count": 45,
     "metadata": {},
     "output_type": "execute_result"
    }
   ],
   "source": [
    "embedding.weight.data.shape"
   ]
  },
  {
   "cell_type": "markdown",
   "metadata": {},
   "source": [
    "Instead, we should use the glove vectors, so that when we get back a matrix of a 100 length vector for each word, that vector actually represents the word."
   ]
  },
  {
   "cell_type": "markdown",
   "metadata": {},
   "source": [
    "Ok, we can select the glove vectors from our `TEXT.vocab` object."
   ]
  },
  {
   "cell_type": "code",
   "execution_count": 46,
   "metadata": {},
   "outputs": [],
   "source": [
    "text_vectors = TEXT.vocab.vectors"
   ]
  },
  {
   "cell_type": "markdown",
   "metadata": {},
   "source": [
    "And then we can replace the weights in our embedded layer with these vectors."
   ]
  },
  {
   "cell_type": "code",
   "execution_count": 59,
   "metadata": {},
   "outputs": [],
   "source": [
    "# embedding.weight.data.copy_(text_vectors)"
   ]
  },
  {
   "cell_type": "code",
   "execution_count": 58,
   "metadata": {},
   "outputs": [
    {
     "data": {
      "text/plain": [
       "Parameter containing:\n",
       "tensor([[ 9.9937e-01, -3.7601e-01,  3.7198e-01,  ...,  3.2650e-01,\n",
       "          6.4078e-01,  6.6549e-01],\n",
       "        [-3.6829e-01, -2.8898e+00, -7.7163e-01,  ..., -2.9713e+00,\n",
       "          1.5644e+00, -1.0140e+00],\n",
       "        [-3.8194e-02, -2.4487e-01,  7.2812e-01,  ..., -1.4590e-01,\n",
       "          8.2780e-01,  2.7062e-01],\n",
       "        ...,\n",
       "        [ 3.1549e-01,  4.7876e-01, -7.9116e-03,  ...,  1.9896e-02,\n",
       "          1.5833e+00, -2.9216e-01],\n",
       "        [ 2.0895e+00, -6.2094e-01, -1.0965e-01,  ..., -1.1243e-01,\n",
       "         -9.0293e-01,  4.8347e-01],\n",
       "        [-3.3756e-01,  1.1619e-03,  2.1478e-01,  ...,  5.2835e-01,\n",
       "         -1.7724e+00, -1.3728e+00]], requires_grad=True)"
      ]
     },
     "execution_count": 58,
     "metadata": {},
     "output_type": "execute_result"
    }
   ],
   "source": [
    "embedding.weight"
   ]
  },
  {
   "cell_type": "markdown",
   "metadata": {},
   "source": [
    "And it's a good idea to zero out the unknown token vector and the padding vector, as we do not think of these as consisting of 100 different features."
   ]
  },
  {
   "cell_type": "code",
   "execution_count": 61,
   "metadata": {},
   "outputs": [],
   "source": [
    "UNK_IDX = TEXT.vocab.stoi[TEXT.unk_token]\n",
    "PAD_IDX = TEXT.vocab.stoi[TEXT.pad_token]"
   ]
  },
  {
   "cell_type": "code",
   "execution_count": 63,
   "metadata": {},
   "outputs": [],
   "source": [
    "embedding.weight.data[UNK_IDX] = torch.zeros(embedding_dim)\n",
    "embedding.weight.data[PAD_IDX] = torch.zeros(embedding_dim)"
   ]
  },
  {
   "cell_type": "markdown",
   "metadata": {},
   "source": [
    "Now let's pass this through our and take a look at the vectors that are returned with our updated network."
   ]
  },
  {
   "cell_type": "code",
   "execution_count": 67,
   "metadata": {},
   "outputs": [
    {
     "data": {
      "text/plain": [
       "torch.Size([832, 64, 100])"
      ]
     },
     "execution_count": 67,
     "metadata": {},
     "output_type": "execute_result"
    }
   ],
   "source": [
    "embedded = embedding(batch.text)\n",
    "embedded.shape"
   ]
  },
  {
   "cell_type": "code",
   "execution_count": 68,
   "metadata": {},
   "outputs": [],
   "source": [
    "first_document_update = embedded[:, 0, :]"
   ]
  },
  {
   "cell_type": "code",
   "execution_count": 72,
   "metadata": {},
   "outputs": [
    {
     "data": {
      "text/plain": [
       "torch.Size([832, 100])"
      ]
     },
     "execution_count": 72,
     "metadata": {},
     "output_type": "execute_result"
    }
   ],
   "source": [
    "first_document_update.shape"
   ]
  },
  {
   "cell_type": "markdown",
   "metadata": {},
   "source": [
    "We could even visualize our words in a document across different dimensions as a sort of heat map.  This is the first ten words, across the first 20 dimensions, represented."
   ]
  },
  {
   "cell_type": "code",
   "execution_count": 77,
   "metadata": {},
   "outputs": [
    {
     "data": {
      "text/html": [
       "<style  type=\"text/css\" >\n",
       "#T_c67ac672_d389_11ea_8ac7_acde48001122row0_col0,#T_c67ac672_d389_11ea_8ac7_acde48001122row0_col8,#T_c67ac672_d389_11ea_8ac7_acde48001122row0_col13,#T_c67ac672_d389_11ea_8ac7_acde48001122row0_col15,#T_c67ac672_d389_11ea_8ac7_acde48001122row0_col17,#T_c67ac672_d389_11ea_8ac7_acde48001122row1_col4,#T_c67ac672_d389_11ea_8ac7_acde48001122row1_col14,#T_c67ac672_d389_11ea_8ac7_acde48001122row1_col18,#T_c67ac672_d389_11ea_8ac7_acde48001122row3_col1,#T_c67ac672_d389_11ea_8ac7_acde48001122row3_col3,#T_c67ac672_d389_11ea_8ac7_acde48001122row3_col5,#T_c67ac672_d389_11ea_8ac7_acde48001122row3_col7,#T_c67ac672_d389_11ea_8ac7_acde48001122row3_col9,#T_c67ac672_d389_11ea_8ac7_acde48001122row3_col10,#T_c67ac672_d389_11ea_8ac7_acde48001122row3_col11,#T_c67ac672_d389_11ea_8ac7_acde48001122row3_col12,#T_c67ac672_d389_11ea_8ac7_acde48001122row3_col16,#T_c67ac672_d389_11ea_8ac7_acde48001122row3_col19,#T_c67ac672_d389_11ea_8ac7_acde48001122row5_col6,#T_c67ac672_d389_11ea_8ac7_acde48001122row8_col2{\n",
       "            font-size:  6pt;\n",
       "            background-color:  #000000;\n",
       "            color:  #f1f1f1;\n",
       "        }#T_c67ac672_d389_11ea_8ac7_acde48001122row0_col1,#T_c67ac672_d389_11ea_8ac7_acde48001122row0_col4,#T_c67ac672_d389_11ea_8ac7_acde48001122row0_col9,#T_c67ac672_d389_11ea_8ac7_acde48001122row0_col10,#T_c67ac672_d389_11ea_8ac7_acde48001122row0_col11,#T_c67ac672_d389_11ea_8ac7_acde48001122row0_col12,#T_c67ac672_d389_11ea_8ac7_acde48001122row0_col19,#T_c67ac672_d389_11ea_8ac7_acde48001122row1_col6,#T_c67ac672_d389_11ea_8ac7_acde48001122row1_col7,#T_c67ac672_d389_11ea_8ac7_acde48001122row1_col8,#T_c67ac672_d389_11ea_8ac7_acde48001122row3_col0,#T_c67ac672_d389_11ea_8ac7_acde48001122row3_col2,#T_c67ac672_d389_11ea_8ac7_acde48001122row3_col14,#T_c67ac672_d389_11ea_8ac7_acde48001122row3_col15,#T_c67ac672_d389_11ea_8ac7_acde48001122row3_col17,#T_c67ac672_d389_11ea_8ac7_acde48001122row4_col16,#T_c67ac672_d389_11ea_8ac7_acde48001122row5_col3,#T_c67ac672_d389_11ea_8ac7_acde48001122row5_col5,#T_c67ac672_d389_11ea_8ac7_acde48001122row6_col13,#T_c67ac672_d389_11ea_8ac7_acde48001122row6_col18,#T_c67ac672_d389_11ea_8ac7_acde48001122row9_col13,#T_c67ac672_d389_11ea_8ac7_acde48001122row9_col18{\n",
       "            font-size:  6pt;\n",
       "            background-color:  #ffffff;\n",
       "            color:  #000000;\n",
       "        }#T_c67ac672_d389_11ea_8ac7_acde48001122row0_col2{\n",
       "            font-size:  6pt;\n",
       "            background-color:  #4e4e4e;\n",
       "            color:  #f1f1f1;\n",
       "        }#T_c67ac672_d389_11ea_8ac7_acde48001122row0_col3{\n",
       "            font-size:  6pt;\n",
       "            background-color:  #fefefe;\n",
       "            color:  #000000;\n",
       "        }#T_c67ac672_d389_11ea_8ac7_acde48001122row0_col5,#T_c67ac672_d389_11ea_8ac7_acde48001122row2_col6{\n",
       "            font-size:  6pt;\n",
       "            background-color:  #c9c9c9;\n",
       "            color:  #000000;\n",
       "        }#T_c67ac672_d389_11ea_8ac7_acde48001122row0_col6{\n",
       "            font-size:  6pt;\n",
       "            background-color:  #ebebeb;\n",
       "            color:  #000000;\n",
       "        }#T_c67ac672_d389_11ea_8ac7_acde48001122row0_col7{\n",
       "            font-size:  6pt;\n",
       "            background-color:  #7e7e7e;\n",
       "            color:  #000000;\n",
       "        }#T_c67ac672_d389_11ea_8ac7_acde48001122row0_col14{\n",
       "            font-size:  6pt;\n",
       "            background-color:  #d4d4d4;\n",
       "            color:  #000000;\n",
       "        }#T_c67ac672_d389_11ea_8ac7_acde48001122row0_col16{\n",
       "            font-size:  6pt;\n",
       "            background-color:  #505050;\n",
       "            color:  #f1f1f1;\n",
       "        }#T_c67ac672_d389_11ea_8ac7_acde48001122row0_col18{\n",
       "            font-size:  6pt;\n",
       "            background-color:  #1f1f1f;\n",
       "            color:  #f1f1f1;\n",
       "        }#T_c67ac672_d389_11ea_8ac7_acde48001122row1_col0,#T_c67ac672_d389_11ea_8ac7_acde48001122row5_col4{\n",
       "            font-size:  6pt;\n",
       "            background-color:  #737373;\n",
       "            color:  #000000;\n",
       "        }#T_c67ac672_d389_11ea_8ac7_acde48001122row1_col1{\n",
       "            font-size:  6pt;\n",
       "            background-color:  #b5b5b5;\n",
       "            color:  #000000;\n",
       "        }#T_c67ac672_d389_11ea_8ac7_acde48001122row1_col2{\n",
       "            font-size:  6pt;\n",
       "            background-color:  #1b1b1b;\n",
       "            color:  #f1f1f1;\n",
       "        }#T_c67ac672_d389_11ea_8ac7_acde48001122row1_col3,#T_c67ac672_d389_11ea_8ac7_acde48001122row5_col2{\n",
       "            font-size:  6pt;\n",
       "            background-color:  #949494;\n",
       "            color:  #000000;\n",
       "        }#T_c67ac672_d389_11ea_8ac7_acde48001122row1_col5{\n",
       "            font-size:  6pt;\n",
       "            background-color:  #d2d2d2;\n",
       "            color:  #000000;\n",
       "        }#T_c67ac672_d389_11ea_8ac7_acde48001122row1_col9,#T_c67ac672_d389_11ea_8ac7_acde48001122row8_col12{\n",
       "            font-size:  6pt;\n",
       "            background-color:  #2e2e2e;\n",
       "            color:  #f1f1f1;\n",
       "        }#T_c67ac672_d389_11ea_8ac7_acde48001122row1_col10{\n",
       "            font-size:  6pt;\n",
       "            background-color:  #cecece;\n",
       "            color:  #000000;\n",
       "        }#T_c67ac672_d389_11ea_8ac7_acde48001122row1_col11,#T_c67ac672_d389_11ea_8ac7_acde48001122row5_col11{\n",
       "            font-size:  6pt;\n",
       "            background-color:  #797979;\n",
       "            color:  #000000;\n",
       "        }#T_c67ac672_d389_11ea_8ac7_acde48001122row1_col12{\n",
       "            font-size:  6pt;\n",
       "            background-color:  #414141;\n",
       "            color:  #f1f1f1;\n",
       "        }#T_c67ac672_d389_11ea_8ac7_acde48001122row1_col13{\n",
       "            font-size:  6pt;\n",
       "            background-color:  #6c6c6c;\n",
       "            color:  #000000;\n",
       "        }#T_c67ac672_d389_11ea_8ac7_acde48001122row1_col15{\n",
       "            font-size:  6pt;\n",
       "            background-color:  #707070;\n",
       "            color:  #000000;\n",
       "        }#T_c67ac672_d389_11ea_8ac7_acde48001122row1_col16,#T_c67ac672_d389_11ea_8ac7_acde48001122row4_col19,#T_c67ac672_d389_11ea_8ac7_acde48001122row5_col17{\n",
       "            font-size:  6pt;\n",
       "            background-color:  #8f8f8f;\n",
       "            color:  #000000;\n",
       "        }#T_c67ac672_d389_11ea_8ac7_acde48001122row1_col17,#T_c67ac672_d389_11ea_8ac7_acde48001122row7_col3{\n",
       "            font-size:  6pt;\n",
       "            background-color:  #b8b8b8;\n",
       "            color:  #000000;\n",
       "        }#T_c67ac672_d389_11ea_8ac7_acde48001122row1_col19{\n",
       "            font-size:  6pt;\n",
       "            background-color:  #a7a7a7;\n",
       "            color:  #000000;\n",
       "        }#T_c67ac672_d389_11ea_8ac7_acde48001122row2_col0{\n",
       "            font-size:  6pt;\n",
       "            background-color:  #7b7b7b;\n",
       "            color:  #000000;\n",
       "        }#T_c67ac672_d389_11ea_8ac7_acde48001122row2_col1,#T_c67ac672_d389_11ea_8ac7_acde48001122row2_col14{\n",
       "            font-size:  6pt;\n",
       "            background-color:  #464646;\n",
       "            color:  #f1f1f1;\n",
       "        }#T_c67ac672_d389_11ea_8ac7_acde48001122row2_col2{\n",
       "            font-size:  6pt;\n",
       "            background-color:  #5e5e5e;\n",
       "            color:  #f1f1f1;\n",
       "        }#T_c67ac672_d389_11ea_8ac7_acde48001122row2_col3{\n",
       "            font-size:  6pt;\n",
       "            background-color:  #f4f4f4;\n",
       "            color:  #000000;\n",
       "        }#T_c67ac672_d389_11ea_8ac7_acde48001122row2_col4{\n",
       "            font-size:  6pt;\n",
       "            background-color:  #717171;\n",
       "            color:  #000000;\n",
       "        }#T_c67ac672_d389_11ea_8ac7_acde48001122row2_col5{\n",
       "            font-size:  6pt;\n",
       "            background-color:  #cacaca;\n",
       "            color:  #000000;\n",
       "        }#T_c67ac672_d389_11ea_8ac7_acde48001122row2_col7{\n",
       "            font-size:  6pt;\n",
       "            background-color:  #888888;\n",
       "            color:  #000000;\n",
       "        }#T_c67ac672_d389_11ea_8ac7_acde48001122row2_col8,#T_c67ac672_d389_11ea_8ac7_acde48001122row8_col17{\n",
       "            font-size:  6pt;\n",
       "            background-color:  #9a9a9a;\n",
       "            color:  #000000;\n",
       "        }#T_c67ac672_d389_11ea_8ac7_acde48001122row2_col9,#T_c67ac672_d389_11ea_8ac7_acde48001122row8_col11{\n",
       "            font-size:  6pt;\n",
       "            background-color:  #767676;\n",
       "            color:  #000000;\n",
       "        }#T_c67ac672_d389_11ea_8ac7_acde48001122row2_col10{\n",
       "            font-size:  6pt;\n",
       "            background-color:  #646464;\n",
       "            color:  #f1f1f1;\n",
       "        }#T_c67ac672_d389_11ea_8ac7_acde48001122row2_col11{\n",
       "            font-size:  6pt;\n",
       "            background-color:  #929292;\n",
       "            color:  #000000;\n",
       "        }#T_c67ac672_d389_11ea_8ac7_acde48001122row2_col12{\n",
       "            font-size:  6pt;\n",
       "            background-color:  #1a1a1a;\n",
       "            color:  #f1f1f1;\n",
       "        }#T_c67ac672_d389_11ea_8ac7_acde48001122row2_col13,#T_c67ac672_d389_11ea_8ac7_acde48001122row4_col2{\n",
       "            font-size:  6pt;\n",
       "            background-color:  #bdbdbd;\n",
       "            color:  #000000;\n",
       "        }#T_c67ac672_d389_11ea_8ac7_acde48001122row2_col15{\n",
       "            font-size:  6pt;\n",
       "            background-color:  #6a6a6a;\n",
       "            color:  #000000;\n",
       "        }#T_c67ac672_d389_11ea_8ac7_acde48001122row2_col16{\n",
       "            font-size:  6pt;\n",
       "            background-color:  #cccccc;\n",
       "            color:  #000000;\n",
       "        }#T_c67ac672_d389_11ea_8ac7_acde48001122row2_col17{\n",
       "            font-size:  6pt;\n",
       "            background-color:  #585858;\n",
       "            color:  #f1f1f1;\n",
       "        }#T_c67ac672_d389_11ea_8ac7_acde48001122row2_col18,#T_c67ac672_d389_11ea_8ac7_acde48001122row2_col19,#T_c67ac672_d389_11ea_8ac7_acde48001122row8_col1{\n",
       "            font-size:  6pt;\n",
       "            background-color:  #838383;\n",
       "            color:  #000000;\n",
       "        }#T_c67ac672_d389_11ea_8ac7_acde48001122row3_col4,#T_c67ac672_d389_11ea_8ac7_acde48001122row4_col4{\n",
       "            font-size:  6pt;\n",
       "            background-color:  #bebebe;\n",
       "            color:  #000000;\n",
       "        }#T_c67ac672_d389_11ea_8ac7_acde48001122row3_col6{\n",
       "            font-size:  6pt;\n",
       "            background-color:  #131313;\n",
       "            color:  #f1f1f1;\n",
       "        }#T_c67ac672_d389_11ea_8ac7_acde48001122row3_col8,#T_c67ac672_d389_11ea_8ac7_acde48001122row6_col0,#T_c67ac672_d389_11ea_8ac7_acde48001122row9_col0{\n",
       "            font-size:  6pt;\n",
       "            background-color:  #777777;\n",
       "            color:  #000000;\n",
       "        }#T_c67ac672_d389_11ea_8ac7_acde48001122row3_col13,#T_c67ac672_d389_11ea_8ac7_acde48001122row4_col15,#T_c67ac672_d389_11ea_8ac7_acde48001122row6_col14,#T_c67ac672_d389_11ea_8ac7_acde48001122row9_col14{\n",
       "            font-size:  6pt;\n",
       "            background-color:  #525252;\n",
       "            color:  #f1f1f1;\n",
       "        }#T_c67ac672_d389_11ea_8ac7_acde48001122row3_col18{\n",
       "            font-size:  6pt;\n",
       "            background-color:  #bbbbbb;\n",
       "            color:  #000000;\n",
       "        }#T_c67ac672_d389_11ea_8ac7_acde48001122row4_col0{\n",
       "            font-size:  6pt;\n",
       "            background-color:  #5d5d5d;\n",
       "            color:  #f1f1f1;\n",
       "        }#T_c67ac672_d389_11ea_8ac7_acde48001122row4_col1{\n",
       "            font-size:  6pt;\n",
       "            background-color:  #434343;\n",
       "            color:  #f1f1f1;\n",
       "        }#T_c67ac672_d389_11ea_8ac7_acde48001122row4_col3{\n",
       "            font-size:  6pt;\n",
       "            background-color:  #eeeeee;\n",
       "            color:  #000000;\n",
       "        }#T_c67ac672_d389_11ea_8ac7_acde48001122row4_col5,#T_c67ac672_d389_11ea_8ac7_acde48001122row6_col6,#T_c67ac672_d389_11ea_8ac7_acde48001122row9_col6{\n",
       "            font-size:  6pt;\n",
       "            background-color:  #fafafa;\n",
       "            color:  #000000;\n",
       "        }#T_c67ac672_d389_11ea_8ac7_acde48001122row4_col6{\n",
       "            font-size:  6pt;\n",
       "            background-color:  #383838;\n",
       "            color:  #f1f1f1;\n",
       "        }#T_c67ac672_d389_11ea_8ac7_acde48001122row4_col7{\n",
       "            font-size:  6pt;\n",
       "            background-color:  #b0b0b0;\n",
       "            color:  #000000;\n",
       "        }#T_c67ac672_d389_11ea_8ac7_acde48001122row4_col8,#T_c67ac672_d389_11ea_8ac7_acde48001122row4_col9,#T_c67ac672_d389_11ea_8ac7_acde48001122row4_col11,#T_c67ac672_d389_11ea_8ac7_acde48001122row6_col8,#T_c67ac672_d389_11ea_8ac7_acde48001122row7_col18,#T_c67ac672_d389_11ea_8ac7_acde48001122row9_col8{\n",
       "            font-size:  6pt;\n",
       "            background-color:  #8a8a8a;\n",
       "            color:  #000000;\n",
       "        }#T_c67ac672_d389_11ea_8ac7_acde48001122row4_col10,#T_c67ac672_d389_11ea_8ac7_acde48001122row6_col15,#T_c67ac672_d389_11ea_8ac7_acde48001122row9_col15{\n",
       "            font-size:  6pt;\n",
       "            background-color:  #5c5c5c;\n",
       "            color:  #f1f1f1;\n",
       "        }#T_c67ac672_d389_11ea_8ac7_acde48001122row4_col12,#T_c67ac672_d389_11ea_8ac7_acde48001122row7_col15{\n",
       "            font-size:  6pt;\n",
       "            background-color:  #0c0c0c;\n",
       "            color:  #f1f1f1;\n",
       "        }#T_c67ac672_d389_11ea_8ac7_acde48001122row4_col13,#T_c67ac672_d389_11ea_8ac7_acde48001122row4_col18{\n",
       "            font-size:  6pt;\n",
       "            background-color:  #e4e4e4;\n",
       "            color:  #000000;\n",
       "        }#T_c67ac672_d389_11ea_8ac7_acde48001122row4_col14{\n",
       "            font-size:  6pt;\n",
       "            background-color:  #727272;\n",
       "            color:  #000000;\n",
       "        }#T_c67ac672_d389_11ea_8ac7_acde48001122row4_col17{\n",
       "            font-size:  6pt;\n",
       "            background-color:  #5b5b5b;\n",
       "            color:  #f1f1f1;\n",
       "        }#T_c67ac672_d389_11ea_8ac7_acde48001122row5_col0{\n",
       "            font-size:  6pt;\n",
       "            background-color:  #181818;\n",
       "            color:  #f1f1f1;\n",
       "        }#T_c67ac672_d389_11ea_8ac7_acde48001122row5_col1,#T_c67ac672_d389_11ea_8ac7_acde48001122row5_col13{\n",
       "            font-size:  6pt;\n",
       "            background-color:  #7f7f7f;\n",
       "            color:  #000000;\n",
       "        }#T_c67ac672_d389_11ea_8ac7_acde48001122row5_col7,#T_c67ac672_d389_11ea_8ac7_acde48001122row6_col3,#T_c67ac672_d389_11ea_8ac7_acde48001122row9_col3{\n",
       "            font-size:  6pt;\n",
       "            background-color:  #b9b9b9;\n",
       "            color:  #000000;\n",
       "        }#T_c67ac672_d389_11ea_8ac7_acde48001122row5_col8,#T_c67ac672_d389_11ea_8ac7_acde48001122row7_col14{\n",
       "            font-size:  6pt;\n",
       "            background-color:  #828282;\n",
       "            color:  #000000;\n",
       "        }#T_c67ac672_d389_11ea_8ac7_acde48001122row5_col9,#T_c67ac672_d389_11ea_8ac7_acde48001122row6_col19,#T_c67ac672_d389_11ea_8ac7_acde48001122row9_col19{\n",
       "            font-size:  6pt;\n",
       "            background-color:  #979797;\n",
       "            color:  #000000;\n",
       "        }#T_c67ac672_d389_11ea_8ac7_acde48001122row5_col10{\n",
       "            font-size:  6pt;\n",
       "            background-color:  #6f6f6f;\n",
       "            color:  #000000;\n",
       "        }#T_c67ac672_d389_11ea_8ac7_acde48001122row5_col12{\n",
       "            font-size:  6pt;\n",
       "            background-color:  #4a4a4a;\n",
       "            color:  #f1f1f1;\n",
       "        }#T_c67ac672_d389_11ea_8ac7_acde48001122row5_col14{\n",
       "            font-size:  6pt;\n",
       "            background-color:  #2f2f2f;\n",
       "            color:  #f1f1f1;\n",
       "        }#T_c67ac672_d389_11ea_8ac7_acde48001122row5_col15{\n",
       "            font-size:  6pt;\n",
       "            background-color:  #3f3f3f;\n",
       "            color:  #f1f1f1;\n",
       "        }#T_c67ac672_d389_11ea_8ac7_acde48001122row5_col16,#T_c67ac672_d389_11ea_8ac7_acde48001122row6_col5,#T_c67ac672_d389_11ea_8ac7_acde48001122row6_col10,#T_c67ac672_d389_11ea_8ac7_acde48001122row9_col5,#T_c67ac672_d389_11ea_8ac7_acde48001122row9_col10{\n",
       "            font-size:  6pt;\n",
       "            background-color:  #ededed;\n",
       "            color:  #000000;\n",
       "        }#T_c67ac672_d389_11ea_8ac7_acde48001122row5_col18,#T_c67ac672_d389_11ea_8ac7_acde48001122row7_col0{\n",
       "            font-size:  6pt;\n",
       "            background-color:  #666666;\n",
       "            color:  #f1f1f1;\n",
       "        }#T_c67ac672_d389_11ea_8ac7_acde48001122row5_col19{\n",
       "            font-size:  6pt;\n",
       "            background-color:  #9d9d9d;\n",
       "            color:  #000000;\n",
       "        }#T_c67ac672_d389_11ea_8ac7_acde48001122row6_col1,#T_c67ac672_d389_11ea_8ac7_acde48001122row9_col1{\n",
       "            font-size:  6pt;\n",
       "            background-color:  #909090;\n",
       "            color:  #000000;\n",
       "        }#T_c67ac672_d389_11ea_8ac7_acde48001122row6_col2,#T_c67ac672_d389_11ea_8ac7_acde48001122row9_col2{\n",
       "            font-size:  6pt;\n",
       "            background-color:  #e8e8e8;\n",
       "            color:  #000000;\n",
       "        }#T_c67ac672_d389_11ea_8ac7_acde48001122row6_col4,#T_c67ac672_d389_11ea_8ac7_acde48001122row9_col4{\n",
       "            font-size:  6pt;\n",
       "            background-color:  #616161;\n",
       "            color:  #f1f1f1;\n",
       "        }#T_c67ac672_d389_11ea_8ac7_acde48001122row6_col7,#T_c67ac672_d389_11ea_8ac7_acde48001122row9_col7{\n",
       "            font-size:  6pt;\n",
       "            background-color:  #dfdfdf;\n",
       "            color:  #000000;\n",
       "        }#T_c67ac672_d389_11ea_8ac7_acde48001122row6_col9,#T_c67ac672_d389_11ea_8ac7_acde48001122row9_col9{\n",
       "            font-size:  6pt;\n",
       "            background-color:  #393939;\n",
       "            color:  #f1f1f1;\n",
       "        }#T_c67ac672_d389_11ea_8ac7_acde48001122row6_col11,#T_c67ac672_d389_11ea_8ac7_acde48001122row7_col1,#T_c67ac672_d389_11ea_8ac7_acde48001122row7_col9,#T_c67ac672_d389_11ea_8ac7_acde48001122row9_col11{\n",
       "            font-size:  6pt;\n",
       "            background-color:  #848484;\n",
       "            color:  #000000;\n",
       "        }#T_c67ac672_d389_11ea_8ac7_acde48001122row6_col12,#T_c67ac672_d389_11ea_8ac7_acde48001122row9_col12{\n",
       "            font-size:  6pt;\n",
       "            background-color:  #626262;\n",
       "            color:  #f1f1f1;\n",
       "        }#T_c67ac672_d389_11ea_8ac7_acde48001122row6_col16,#T_c67ac672_d389_11ea_8ac7_acde48001122row9_col16{\n",
       "            font-size:  6pt;\n",
       "            background-color:  #333333;\n",
       "            color:  #f1f1f1;\n",
       "        }#T_c67ac672_d389_11ea_8ac7_acde48001122row6_col17,#T_c67ac672_d389_11ea_8ac7_acde48001122row9_col17{\n",
       "            font-size:  6pt;\n",
       "            background-color:  #a5a5a5;\n",
       "            color:  #000000;\n",
       "        }#T_c67ac672_d389_11ea_8ac7_acde48001122row7_col2,#T_c67ac672_d389_11ea_8ac7_acde48001122row7_col17{\n",
       "            font-size:  6pt;\n",
       "            background-color:  #9f9f9f;\n",
       "            color:  #000000;\n",
       "        }#T_c67ac672_d389_11ea_8ac7_acde48001122row7_col4{\n",
       "            font-size:  6pt;\n",
       "            background-color:  #6b6b6b;\n",
       "            color:  #000000;\n",
       "        }#T_c67ac672_d389_11ea_8ac7_acde48001122row7_col5{\n",
       "            font-size:  6pt;\n",
       "            background-color:  #f2f2f2;\n",
       "            color:  #000000;\n",
       "        }#T_c67ac672_d389_11ea_8ac7_acde48001122row7_col6,#T_c67ac672_d389_11ea_8ac7_acde48001122row7_col13{\n",
       "            font-size:  6pt;\n",
       "            background-color:  #dadada;\n",
       "            color:  #000000;\n",
       "        }#T_c67ac672_d389_11ea_8ac7_acde48001122row7_col7{\n",
       "            font-size:  6pt;\n",
       "            background-color:  #c7c7c7;\n",
       "            color:  #000000;\n",
       "        }#T_c67ac672_d389_11ea_8ac7_acde48001122row7_col8{\n",
       "            font-size:  6pt;\n",
       "            background-color:  #868686;\n",
       "            color:  #000000;\n",
       "        }#T_c67ac672_d389_11ea_8ac7_acde48001122row7_col10{\n",
       "            font-size:  6pt;\n",
       "            background-color:  #eaeaea;\n",
       "            color:  #000000;\n",
       "        }#T_c67ac672_d389_11ea_8ac7_acde48001122row7_col11{\n",
       "            font-size:  6pt;\n",
       "            background-color:  #9c9c9c;\n",
       "            color:  #000000;\n",
       "        }#T_c67ac672_d389_11ea_8ac7_acde48001122row7_col12{\n",
       "            font-size:  6pt;\n",
       "            background-color:  #686868;\n",
       "            color:  #f1f1f1;\n",
       "        }#T_c67ac672_d389_11ea_8ac7_acde48001122row7_col16{\n",
       "            font-size:  6pt;\n",
       "            background-color:  #cbcbcb;\n",
       "            color:  #000000;\n",
       "        }#T_c67ac672_d389_11ea_8ac7_acde48001122row7_col19{\n",
       "            font-size:  6pt;\n",
       "            background-color:  #484848;\n",
       "            color:  #f1f1f1;\n",
       "        }#T_c67ac672_d389_11ea_8ac7_acde48001122row8_col0{\n",
       "            font-size:  6pt;\n",
       "            background-color:  #858585;\n",
       "            color:  #000000;\n",
       "        }#T_c67ac672_d389_11ea_8ac7_acde48001122row8_col3{\n",
       "            font-size:  6pt;\n",
       "            background-color:  #dcdcdc;\n",
       "            color:  #000000;\n",
       "        }#T_c67ac672_d389_11ea_8ac7_acde48001122row8_col4{\n",
       "            font-size:  6pt;\n",
       "            background-color:  #757575;\n",
       "            color:  #000000;\n",
       "        }#T_c67ac672_d389_11ea_8ac7_acde48001122row8_col5{\n",
       "            font-size:  6pt;\n",
       "            background-color:  #f1f1f1;\n",
       "            color:  #000000;\n",
       "        }#T_c67ac672_d389_11ea_8ac7_acde48001122row8_col6{\n",
       "            font-size:  6pt;\n",
       "            background-color:  #6e6e6e;\n",
       "            color:  #000000;\n",
       "        }#T_c67ac672_d389_11ea_8ac7_acde48001122row8_col7{\n",
       "            font-size:  6pt;\n",
       "            background-color:  #9e9e9e;\n",
       "            color:  #000000;\n",
       "        }#T_c67ac672_d389_11ea_8ac7_acde48001122row8_col8{\n",
       "            font-size:  6pt;\n",
       "            background-color:  #1d1d1d;\n",
       "            color:  #f1f1f1;\n",
       "        }#T_c67ac672_d389_11ea_8ac7_acde48001122row8_col9{\n",
       "            font-size:  6pt;\n",
       "            background-color:  #696969;\n",
       "            color:  #000000;\n",
       "        }#T_c67ac672_d389_11ea_8ac7_acde48001122row8_col10{\n",
       "            font-size:  6pt;\n",
       "            background-color:  #adadad;\n",
       "            color:  #000000;\n",
       "        }#T_c67ac672_d389_11ea_8ac7_acde48001122row8_col13{\n",
       "            font-size:  6pt;\n",
       "            background-color:  #e3e3e3;\n",
       "            color:  #000000;\n",
       "        }#T_c67ac672_d389_11ea_8ac7_acde48001122row8_col14{\n",
       "            font-size:  6pt;\n",
       "            background-color:  #5a5a5a;\n",
       "            color:  #f1f1f1;\n",
       "        }#T_c67ac672_d389_11ea_8ac7_acde48001122row8_col15{\n",
       "            font-size:  6pt;\n",
       "            background-color:  #3c3c3c;\n",
       "            color:  #f1f1f1;\n",
       "        }#T_c67ac672_d389_11ea_8ac7_acde48001122row8_col16{\n",
       "            font-size:  6pt;\n",
       "            background-color:  #c2c2c2;\n",
       "            color:  #000000;\n",
       "        }#T_c67ac672_d389_11ea_8ac7_acde48001122row8_col18{\n",
       "            font-size:  6pt;\n",
       "            background-color:  #141414;\n",
       "            color:  #f1f1f1;\n",
       "        }#T_c67ac672_d389_11ea_8ac7_acde48001122row8_col19{\n",
       "            font-size:  6pt;\n",
       "            background-color:  #878787;\n",
       "            color:  #000000;\n",
       "        }</style><table id=\"T_c67ac672_d389_11ea_8ac7_acde48001122\" ><thead>    <tr>        <th class=\"blank level0\" ></th>        <th class=\"col_heading level0 col0\" >0</th>        <th class=\"col_heading level0 col1\" >1</th>        <th class=\"col_heading level0 col2\" >2</th>        <th class=\"col_heading level0 col3\" >3</th>        <th class=\"col_heading level0 col4\" >4</th>        <th class=\"col_heading level0 col5\" >5</th>        <th class=\"col_heading level0 col6\" >6</th>        <th class=\"col_heading level0 col7\" >7</th>        <th class=\"col_heading level0 col8\" >8</th>        <th class=\"col_heading level0 col9\" >9</th>        <th class=\"col_heading level0 col10\" >10</th>        <th class=\"col_heading level0 col11\" >11</th>        <th class=\"col_heading level0 col12\" >12</th>        <th class=\"col_heading level0 col13\" >13</th>        <th class=\"col_heading level0 col14\" >14</th>        <th class=\"col_heading level0 col15\" >15</th>        <th class=\"col_heading level0 col16\" >16</th>        <th class=\"col_heading level0 col17\" >17</th>        <th class=\"col_heading level0 col18\" >18</th>        <th class=\"col_heading level0 col19\" >19</th>    </tr></thead><tbody>\n",
       "                <tr>\n",
       "                        <th id=\"T_c67ac672_d389_11ea_8ac7_acde48001122level0_row0\" class=\"row_heading level0 row0\" >0</th>\n",
       "                        <td id=\"T_c67ac672_d389_11ea_8ac7_acde48001122row0_col0\" class=\"data row0 col0\" >0.747637</td>\n",
       "                        <td id=\"T_c67ac672_d389_11ea_8ac7_acde48001122row0_col1\" class=\"data row0 col1\" >-1.227690</td>\n",
       "                        <td id=\"T_c67ac672_d389_11ea_8ac7_acde48001122row0_col2\" class=\"data row0 col2\" >0.756190</td>\n",
       "                        <td id=\"T_c67ac672_d389_11ea_8ac7_acde48001122row0_col3\" class=\"data row0 col3\" >-0.741466</td>\n",
       "                        <td id=\"T_c67ac672_d389_11ea_8ac7_acde48001122row0_col4\" class=\"data row0 col4\" >-1.513559</td>\n",
       "                        <td id=\"T_c67ac672_d389_11ea_8ac7_acde48001122row0_col5\" class=\"data row0 col5\" >0.564932</td>\n",
       "                        <td id=\"T_c67ac672_d389_11ea_8ac7_acde48001122row0_col6\" class=\"data row0 col6\" >-0.461237</td>\n",
       "                        <td id=\"T_c67ac672_d389_11ea_8ac7_acde48001122row0_col7\" class=\"data row0 col7\" >0.572898</td>\n",
       "                        <td id=\"T_c67ac672_d389_11ea_8ac7_acde48001122row0_col8\" class=\"data row0 col8\" >0.786169</td>\n",
       "                        <td id=\"T_c67ac672_d389_11ea_8ac7_acde48001122row0_col9\" class=\"data row0 col9\" >-1.831817</td>\n",
       "                        <td id=\"T_c67ac672_d389_11ea_8ac7_acde48001122row0_col10\" class=\"data row0 col10\" >-0.316089</td>\n",
       "                        <td id=\"T_c67ac672_d389_11ea_8ac7_acde48001122row0_col11\" class=\"data row0 col11\" >-1.058399</td>\n",
       "                        <td id=\"T_c67ac672_d389_11ea_8ac7_acde48001122row0_col12\" class=\"data row0 col12\" >-1.902547</td>\n",
       "                        <td id=\"T_c67ac672_d389_11ea_8ac7_acde48001122row0_col13\" class=\"data row0 col13\" >0.787707</td>\n",
       "                        <td id=\"T_c67ac672_d389_11ea_8ac7_acde48001122row0_col14\" class=\"data row0 col14\" >-0.726950</td>\n",
       "                        <td id=\"T_c67ac672_d389_11ea_8ac7_acde48001122row0_col15\" class=\"data row0 col15\" >0.058335</td>\n",
       "                        <td id=\"T_c67ac672_d389_11ea_8ac7_acde48001122row0_col16\" class=\"data row0 col16\" >0.828292</td>\n",
       "                        <td id=\"T_c67ac672_d389_11ea_8ac7_acde48001122row0_col17\" class=\"data row0 col17\" >1.505496</td>\n",
       "                        <td id=\"T_c67ac672_d389_11ea_8ac7_acde48001122row0_col18\" class=\"data row0 col18\" >-0.221799</td>\n",
       "                        <td id=\"T_c67ac672_d389_11ea_8ac7_acde48001122row0_col19\" class=\"data row0 col19\" >-0.452337</td>\n",
       "            </tr>\n",
       "            <tr>\n",
       "                        <th id=\"T_c67ac672_d389_11ea_8ac7_acde48001122level0_row1\" class=\"row_heading level0 row1\" >1</th>\n",
       "                        <td id=\"T_c67ac672_d389_11ea_8ac7_acde48001122row1_col0\" class=\"data row1 col0\" >-0.152900</td>\n",
       "                        <td id=\"T_c67ac672_d389_11ea_8ac7_acde48001122row1_col1\" class=\"data row1 col1\" >-0.242790</td>\n",
       "                        <td id=\"T_c67ac672_d389_11ea_8ac7_acde48001122row1_col2\" class=\"data row1 col2\" >0.898370</td>\n",
       "                        <td id=\"T_c67ac672_d389_11ea_8ac7_acde48001122row1_col3\" class=\"data row1 col3\" >0.169960</td>\n",
       "                        <td id=\"T_c67ac672_d389_11ea_8ac7_acde48001122row1_col4\" class=\"data row1 col4\" >0.535160</td>\n",
       "                        <td id=\"T_c67ac672_d389_11ea_8ac7_acde48001122row1_col5\" class=\"data row1 col5\" >0.487840</td>\n",
       "                        <td id=\"T_c67ac672_d389_11ea_8ac7_acde48001122row1_col6\" class=\"data row1 col6\" >-0.588260</td>\n",
       "                        <td id=\"T_c67ac672_d389_11ea_8ac7_acde48001122row1_col7\" class=\"data row1 col7\" >-0.179820</td>\n",
       "                        <td id=\"T_c67ac672_d389_11ea_8ac7_acde48001122row1_col8\" class=\"data row1 col8\" >-1.358100</td>\n",
       "                        <td id=\"T_c67ac672_d389_11ea_8ac7_acde48001122row1_col9\" class=\"data row1 col9\" >0.425410</td>\n",
       "                        <td id=\"T_c67ac672_d389_11ea_8ac7_acde48001122row1_col10\" class=\"data row1 col10\" >0.153770</td>\n",
       "                        <td id=\"T_c67ac672_d389_11ea_8ac7_acde48001122row1_col11\" class=\"data row1 col11\" >0.242150</td>\n",
       "                        <td id=\"T_c67ac672_d389_11ea_8ac7_acde48001122row1_col12\" class=\"data row1 col12\" >0.134740</td>\n",
       "                        <td id=\"T_c67ac672_d389_11ea_8ac7_acde48001122row1_col13\" class=\"data row1 col13\" >0.411930</td>\n",
       "                        <td id=\"T_c67ac672_d389_11ea_8ac7_acde48001122row1_col14\" class=\"data row1 col14\" >0.670430</td>\n",
       "                        <td id=\"T_c67ac672_d389_11ea_8ac7_acde48001122row1_col15\" class=\"data row1 col15\" >-0.564180</td>\n",
       "                        <td id=\"T_c67ac672_d389_11ea_8ac7_acde48001122row1_col16\" class=\"data row1 col16\" >0.429850</td>\n",
       "                        <td id=\"T_c67ac672_d389_11ea_8ac7_acde48001122row1_col17\" class=\"data row1 col17\" >-0.012183</td>\n",
       "                        <td id=\"T_c67ac672_d389_11ea_8ac7_acde48001122row1_col18\" class=\"data row1 col18\" >-0.116770</td>\n",
       "                        <td id=\"T_c67ac672_d389_11ea_8ac7_acde48001122row1_col19\" class=\"data row1 col19\" >0.317810</td>\n",
       "            </tr>\n",
       "            <tr>\n",
       "                        <th id=\"T_c67ac672_d389_11ea_8ac7_acde48001122level0_row2\" class=\"row_heading level0 row2\" >2</th>\n",
       "                        <td id=\"T_c67ac672_d389_11ea_8ac7_acde48001122row2_col0\" class=\"data row2 col0\" >-0.218230</td>\n",
       "                        <td id=\"T_c67ac672_d389_11ea_8ac7_acde48001122row2_col1\" class=\"data row2 col1\" >0.691990</td>\n",
       "                        <td id=\"T_c67ac672_d389_11ea_8ac7_acde48001122row2_col2\" class=\"data row2 col2\" >0.704410</td>\n",
       "                        <td id=\"T_c67ac672_d389_11ea_8ac7_acde48001122row2_col3\" class=\"data row2 col3\" >-0.596420</td>\n",
       "                        <td id=\"T_c67ac672_d389_11ea_8ac7_acde48001122row2_col4\" class=\"data row2 col4\" >-0.218180</td>\n",
       "                        <td id=\"T_c67ac672_d389_11ea_8ac7_acde48001122row2_col5\" class=\"data row2 col5\" >0.553870</td>\n",
       "                        <td id=\"T_c67ac672_d389_11ea_8ac7_acde48001122row2_col6\" class=\"data row2 col6\" >-0.320520</td>\n",
       "                        <td id=\"T_c67ac672_d389_11ea_8ac7_acde48001122row2_col7\" class=\"data row2 col7\" >0.526020</td>\n",
       "                        <td id=\"T_c67ac672_d389_11ea_8ac7_acde48001122row2_col8\" class=\"data row2 col8\" >-0.316670</td>\n",
       "                        <td id=\"T_c67ac672_d389_11ea_8ac7_acde48001122row2_col9\" class=\"data row2 col9\" >-0.191290</td>\n",
       "                        <td id=\"T_c67ac672_d389_11ea_8ac7_acde48001122row2_col10\" class=\"data row2 col10\" >0.761090</td>\n",
       "                        <td id=\"T_c67ac672_d389_11ea_8ac7_acde48001122row2_col11\" class=\"data row2 col11\" >0.047439</td>\n",
       "                        <td id=\"T_c67ac672_d389_11ea_8ac7_acde48001122row2_col12\" class=\"data row2 col12\" >0.431990</td>\n",
       "                        <td id=\"T_c67ac672_d389_11ea_8ac7_acde48001122row2_col13\" class=\"data row2 col13\" >0.122320</td>\n",
       "                        <td id=\"T_c67ac672_d389_11ea_8ac7_acde48001122row2_col14\" class=\"data row2 col14\" >0.256640</td>\n",
       "                        <td id=\"T_c67ac672_d389_11ea_8ac7_acde48001122row2_col15\" class=\"data row2 col15\" >-0.524530</td>\n",
       "                        <td id=\"T_c67ac672_d389_11ea_8ac7_acde48001122row2_col16\" class=\"data row2 col16\" >0.048994</td>\n",
       "                        <td id=\"T_c67ac672_d389_11ea_8ac7_acde48001122row2_col17\" class=\"data row2 col17\" >0.816210</td>\n",
       "                        <td id=\"T_c67ac672_d389_11ea_8ac7_acde48001122row2_col18\" class=\"data row2 col18\" >-0.533360</td>\n",
       "                        <td id=\"T_c67ac672_d389_11ea_8ac7_acde48001122row2_col19\" class=\"data row2 col19\" >0.530930</td>\n",
       "            </tr>\n",
       "            <tr>\n",
       "                        <th id=\"T_c67ac672_d389_11ea_8ac7_acde48001122level0_row3\" class=\"row_heading level0 row3\" >3</th>\n",
       "                        <td id=\"T_c67ac672_d389_11ea_8ac7_acde48001122row3_col0\" class=\"data row3 col0\" >-1.652670</td>\n",
       "                        <td id=\"T_c67ac672_d389_11ea_8ac7_acde48001122row3_col1\" class=\"data row3 col1\" >1.223435</td>\n",
       "                        <td id=\"T_c67ac672_d389_11ea_8ac7_acde48001122row3_col2\" class=\"data row3 col2\" >0.029972</td>\n",
       "                        <td id=\"T_c67ac672_d389_11ea_8ac7_acde48001122row3_col3\" class=\"data row3 col3\" >1.079892</td>\n",
       "                        <td id=\"T_c67ac672_d389_11ea_8ac7_acde48001122row3_col4\" class=\"data row3 col4\" >-0.748489</td>\n",
       "                        <td id=\"T_c67ac672_d389_11ea_8ac7_acde48001122row3_col5\" class=\"data row3 col5\" >1.891953</td>\n",
       "                        <td id=\"T_c67ac672_d389_11ea_8ac7_acde48001122row3_col6\" class=\"data row3 col6\" >0.192535</td>\n",
       "                        <td id=\"T_c67ac672_d389_11ea_8ac7_acde48001122row3_col7\" class=\"data row3 col7\" >1.107280</td>\n",
       "                        <td id=\"T_c67ac672_d389_11ea_8ac7_acde48001122row3_col8\" class=\"data row3 col8\" >-0.047635</td>\n",
       "                        <td id=\"T_c67ac672_d389_11ea_8ac7_acde48001122row3_col9\" class=\"data row3 col9\" >0.828955</td>\n",
       "                        <td id=\"T_c67ac672_d389_11ea_8ac7_acde48001122row3_col10\" class=\"data row3 col10\" >1.262526</td>\n",
       "                        <td id=\"T_c67ac672_d389_11ea_8ac7_acde48001122row3_col11\" class=\"data row3 col11\" >1.094922</td>\n",
       "                        <td id=\"T_c67ac672_d389_11ea_8ac7_acde48001122row3_col12\" class=\"data row3 col12\" >0.659926</td>\n",
       "                        <td id=\"T_c67ac672_d389_11ea_8ac7_acde48001122row3_col13\" class=\"data row3 col13\" >0.518608</td>\n",
       "                        <td id=\"T_c67ac672_d389_11ea_8ac7_acde48001122row3_col14\" class=\"data row3 col14\" >-1.246645</td>\n",
       "                        <td id=\"T_c67ac672_d389_11ea_8ac7_acde48001122row3_col15\" class=\"data row3 col15\" >-1.651591</td>\n",
       "                        <td id=\"T_c67ac672_d389_11ea_8ac7_acde48001122row3_col16\" class=\"data row3 col16\" >1.247685</td>\n",
       "                        <td id=\"T_c67ac672_d389_11ea_8ac7_acde48001122row3_col17\" class=\"data row3 col17\" >-0.987246</td>\n",
       "                        <td id=\"T_c67ac672_d389_11ea_8ac7_acde48001122row3_col18\" class=\"data row3 col18\" >-0.712199</td>\n",
       "                        <td id=\"T_c67ac672_d389_11ea_8ac7_acde48001122row3_col19\" class=\"data row3 col19\" >1.274366</td>\n",
       "            </tr>\n",
       "            <tr>\n",
       "                        <th id=\"T_c67ac672_d389_11ea_8ac7_acde48001122level0_row4\" class=\"row_heading level0 row4\" >4</th>\n",
       "                        <td id=\"T_c67ac672_d389_11ea_8ac7_acde48001122row4_col0\" class=\"data row4 col0\" >0.053583</td>\n",
       "                        <td id=\"T_c67ac672_d389_11ea_8ac7_acde48001122row4_col1\" class=\"data row4 col1\" >0.708230</td>\n",
       "                        <td id=\"T_c67ac672_d389_11ea_8ac7_acde48001122row4_col2\" class=\"data row4 col2\" >0.391670</td>\n",
       "                        <td id=\"T_c67ac672_d389_11ea_8ac7_acde48001122row4_col3\" class=\"data row4 col3\" >-0.517920</td>\n",
       "                        <td id=\"T_c67ac672_d389_11ea_8ac7_acde48001122row4_col4\" class=\"data row4 col4\" >-0.747980</td>\n",
       "                        <td id=\"T_c67ac672_d389_11ea_8ac7_acde48001122row4_col5\" class=\"data row4 col5\" >0.012321</td>\n",
       "                        <td id=\"T_c67ac672_d389_11ea_8ac7_acde48001122row4_col6\" class=\"data row4 col6\" >0.095655</td>\n",
       "                        <td id=\"T_c67ac672_d389_11ea_8ac7_acde48001122row4_col7\" class=\"data row4 col7\" >0.353160</td>\n",
       "                        <td id=\"T_c67ac672_d389_11ea_8ac7_acde48001122row4_col8\" class=\"data row4 col8\" >-0.195450</td>\n",
       "                        <td id=\"T_c67ac672_d389_11ea_8ac7_acde48001122row4_col9\" class=\"data row4 col9\" >-0.391330</td>\n",
       "                        <td id=\"T_c67ac672_d389_11ea_8ac7_acde48001122row4_col10\" class=\"data row4 col10\" >0.809210</td>\n",
       "                        <td id=\"T_c67ac672_d389_11ea_8ac7_acde48001122row4_col11\" class=\"data row4 col11\" >0.103380</td>\n",
       "                        <td id=\"T_c67ac672_d389_11ea_8ac7_acde48001122row4_col12\" class=\"data row4 col12\" >0.555770</td>\n",
       "                        <td id=\"T_c67ac672_d389_11ea_8ac7_acde48001122row4_col13\" class=\"data row4 col13\" >-0.076189</td>\n",
       "                        <td id=\"T_c67ac672_d389_11ea_8ac7_acde48001122row4_col14\" class=\"data row4 col14\" >-0.041986</td>\n",
       "                        <td id=\"T_c67ac672_d389_11ea_8ac7_acde48001122row4_col15\" class=\"data row4 col15\" >-0.370320</td>\n",
       "                        <td id=\"T_c67ac672_d389_11ea_8ac7_acde48001122row4_col16\" class=\"data row4 col16\" >-0.478860</td>\n",
       "                        <td id=\"T_c67ac672_d389_11ea_8ac7_acde48001122row4_col17\" class=\"data row4 col17\" >0.797200</td>\n",
       "                        <td id=\"T_c67ac672_d389_11ea_8ac7_acde48001122row4_col18\" class=\"data row4 col18\" >-0.890800</td>\n",
       "                        <td id=\"T_c67ac672_d389_11ea_8ac7_acde48001122row4_col19\" class=\"data row4 col19\" >0.457370</td>\n",
       "            </tr>\n",
       "            <tr>\n",
       "                        <th id=\"T_c67ac672_d389_11ea_8ac7_acde48001122level0_row5\" class=\"row_heading level0 row5\" >5</th>\n",
       "                        <td id=\"T_c67ac672_d389_11ea_8ac7_acde48001122row5_col0\" class=\"data row5 col0\" >0.546350</td>\n",
       "                        <td id=\"T_c67ac672_d389_11ea_8ac7_acde48001122row5_col1\" class=\"data row5 col1\" >0.190180</td>\n",
       "                        <td id=\"T_c67ac672_d389_11ea_8ac7_acde48001122row5_col2\" class=\"data row5 col2\" >0.512980</td>\n",
       "                        <td id=\"T_c67ac672_d389_11ea_8ac7_acde48001122row5_col3\" class=\"data row5 col3\" >-0.767290</td>\n",
       "                        <td id=\"T_c67ac672_d389_11ea_8ac7_acde48001122row5_col4\" class=\"data row5 col4\" >-0.238240</td>\n",
       "                        <td id=\"T_c67ac672_d389_11ea_8ac7_acde48001122row5_col5\" class=\"data row5 col5\" >-0.065802</td>\n",
       "                        <td id=\"T_c67ac672_d389_11ea_8ac7_acde48001122row5_col6\" class=\"data row5 col6\" >0.244640</td>\n",
       "                        <td id=\"T_c67ac672_d389_11ea_8ac7_acde48001122row5_col7\" class=\"data row5 col7\" >0.320240</td>\n",
       "                        <td id=\"T_c67ac672_d389_11ea_8ac7_acde48001122row5_col8\" class=\"data row5 col8\" >-0.132150</td>\n",
       "                        <td id=\"T_c67ac672_d389_11ea_8ac7_acde48001122row5_col9\" class=\"data row5 col9\" >-0.510830</td>\n",
       "                        <td id=\"T_c67ac672_d389_11ea_8ac7_acde48001122row5_col10\" class=\"data row5 col10\" >0.691030</td>\n",
       "                        <td id=\"T_c67ac672_d389_11ea_8ac7_acde48001122row5_col11\" class=\"data row5 col11\" >0.244620</td>\n",
       "                        <td id=\"T_c67ac672_d389_11ea_8ac7_acde48001122row5_col12\" class=\"data row5 col12\" >0.075322</td>\n",
       "                        <td id=\"T_c67ac672_d389_11ea_8ac7_acde48001122row5_col13\" class=\"data row5 col13\" >0.340580</td>\n",
       "                        <td id=\"T_c67ac672_d389_11ea_8ac7_acde48001122row5_col14\" class=\"data row5 col14\" >0.377360</td>\n",
       "                        <td id=\"T_c67ac672_d389_11ea_8ac7_acde48001122row5_col15\" class=\"data row5 col15\" >-0.276470</td>\n",
       "                        <td id=\"T_c67ac672_d389_11ea_8ac7_acde48001122row5_col16\" class=\"data row5 col16\" >-0.229370</td>\n",
       "                        <td id=\"T_c67ac672_d389_11ea_8ac7_acde48001122row5_col17\" class=\"data row5 col17\" >0.320590</td>\n",
       "                        <td id=\"T_c67ac672_d389_11ea_8ac7_acde48001122row5_col18\" class=\"data row5 col18\" >-0.431150</td>\n",
       "                        <td id=\"T_c67ac672_d389_11ea_8ac7_acde48001122row5_col19\" class=\"data row5 col19\" >0.372380</td>\n",
       "            </tr>\n",
       "            <tr>\n",
       "                        <th id=\"T_c67ac672_d389_11ea_8ac7_acde48001122level0_row6\" class=\"row_heading level0 row6\" >6</th>\n",
       "                        <td id=\"T_c67ac672_d389_11ea_8ac7_acde48001122row6_col0\" class=\"data row6 col0\" >-0.189700</td>\n",
       "                        <td id=\"T_c67ac672_d389_11ea_8ac7_acde48001122row6_col1\" class=\"data row6 col1\" >0.050024</td>\n",
       "                        <td id=\"T_c67ac672_d389_11ea_8ac7_acde48001122row6_col2\" class=\"data row6 col2\" >0.190840</td>\n",
       "                        <td id=\"T_c67ac672_d389_11ea_8ac7_acde48001122row6_col3\" class=\"data row6 col3\" >-0.049184</td>\n",
       "                        <td id=\"T_c67ac672_d389_11ea_8ac7_acde48001122row6_col4\" class=\"data row6 col4\" >-0.089737</td>\n",
       "                        <td id=\"T_c67ac672_d389_11ea_8ac7_acde48001122row6_col5\" class=\"data row6 col5\" >0.210060</td>\n",
       "                        <td id=\"T_c67ac672_d389_11ea_8ac7_acde48001122row6_col6\" class=\"data row6 col6\" >-0.549520</td>\n",
       "                        <td id=\"T_c67ac672_d389_11ea_8ac7_acde48001122row6_col7\" class=\"data row6 col7\" >0.098377</td>\n",
       "                        <td id=\"T_c67ac672_d389_11ea_8ac7_acde48001122row6_col8\" class=\"data row6 col8\" >-0.201350</td>\n",
       "                        <td id=\"T_c67ac672_d389_11ea_8ac7_acde48001122row6_col9\" class=\"data row6 col9\" >0.342410</td>\n",
       "                        <td id=\"T_c67ac672_d389_11ea_8ac7_acde48001122row6_col10\" class=\"data row6 col10\" >-0.092677</td>\n",
       "                        <td id=\"T_c67ac672_d389_11ea_8ac7_acde48001122row6_col11\" class=\"data row6 col11\" >0.161000</td>\n",
       "                        <td id=\"T_c67ac672_d389_11ea_8ac7_acde48001122row6_col12\" class=\"data row6 col12\" >-0.132680</td>\n",
       "                        <td id=\"T_c67ac672_d389_11ea_8ac7_acde48001122row6_col13\" class=\"data row6 col13\" >-0.281600</td>\n",
       "                        <td id=\"T_c67ac672_d389_11ea_8ac7_acde48001122row6_col14\" class=\"data row6 col14\" >0.187370</td>\n",
       "                        <td id=\"T_c67ac672_d389_11ea_8ac7_acde48001122row6_col15\" class=\"data row6 col15\" >-0.429590</td>\n",
       "                        <td id=\"T_c67ac672_d389_11ea_8ac7_acde48001122row6_col16\" class=\"data row6 col16\" >0.960390</td>\n",
       "                        <td id=\"T_c67ac672_d389_11ea_8ac7_acde48001122row6_col17\" class=\"data row6 col17\" >0.139720</td>\n",
       "                        <td id=\"T_c67ac672_d389_11ea_8ac7_acde48001122row6_col18\" class=\"data row6 col18\" >-1.078100</td>\n",
       "                        <td id=\"T_c67ac672_d389_11ea_8ac7_acde48001122row6_col19\" class=\"data row6 col19\" >0.405180</td>\n",
       "            </tr>\n",
       "            <tr>\n",
       "                        <th id=\"T_c67ac672_d389_11ea_8ac7_acde48001122level0_row7\" class=\"row_heading level0 row7\" >7</th>\n",
       "                        <td id=\"T_c67ac672_d389_11ea_8ac7_acde48001122row7_col0\" class=\"data row7 col0\" >-0.037608</td>\n",
       "                        <td id=\"T_c67ac672_d389_11ea_8ac7_acde48001122row7_col1\" class=\"data row7 col1\" >0.156830</td>\n",
       "                        <td id=\"T_c67ac672_d389_11ea_8ac7_acde48001122row7_col2\" class=\"data row7 col2\" >0.479600</td>\n",
       "                        <td id=\"T_c67ac672_d389_11ea_8ac7_acde48001122row7_col3\" class=\"data row7 col3\" >-0.038540</td>\n",
       "                        <td id=\"T_c67ac672_d389_11ea_8ac7_acde48001122row7_col4\" class=\"data row7 col4\" >-0.174700</td>\n",
       "                        <td id=\"T_c67ac672_d389_11ea_8ac7_acde48001122row7_col5\" class=\"data row7 col5\" >0.154750</td>\n",
       "                        <td id=\"T_c67ac672_d389_11ea_8ac7_acde48001122row7_col6\" class=\"data row7 col6\" >-0.382340</td>\n",
       "                        <td id=\"T_c67ac672_d389_11ea_8ac7_acde48001122row7_col7\" class=\"data row7 col7\" >0.242540</td>\n",
       "                        <td id=\"T_c67ac672_d389_11ea_8ac7_acde48001122row7_col8\" class=\"data row7 col8\" >-0.168320</td>\n",
       "                        <td id=\"T_c67ac672_d389_11ea_8ac7_acde48001122row7_col9\" class=\"data row7 col9\" >-0.326700</td>\n",
       "                        <td id=\"T_c67ac672_d389_11ea_8ac7_acde48001122row7_col10\" class=\"data row7 col10\" >-0.064252</td>\n",
       "                        <td id=\"T_c67ac672_d389_11ea_8ac7_acde48001122row7_col11\" class=\"data row7 col11\" >-0.023559</td>\n",
       "                        <td id=\"T_c67ac672_d389_11ea_8ac7_acde48001122row7_col12\" class=\"data row7 col12\" >-0.195140</td>\n",
       "                        <td id=\"T_c67ac672_d389_11ea_8ac7_acde48001122row7_col13\" class=\"data row7 col13\" >-0.015289</td>\n",
       "                        <td id=\"T_c67ac672_d389_11ea_8ac7_acde48001122row7_col14\" class=\"data row7 col14\" >-0.149770</td>\n",
       "                        <td id=\"T_c67ac672_d389_11ea_8ac7_acde48001122row7_col15\" class=\"data row7 col15\" >-0.010363</td>\n",
       "                        <td id=\"T_c67ac672_d389_11ea_8ac7_acde48001122row7_col16\" class=\"data row7 col16\" >0.063250</td>\n",
       "                        <td id=\"T_c67ac672_d389_11ea_8ac7_acde48001122row7_col17\" class=\"data row7 col17\" >0.189480</td>\n",
       "                        <td id=\"T_c67ac672_d389_11ea_8ac7_acde48001122row7_col18\" class=\"data row7 col18\" >-0.556270</td>\n",
       "                        <td id=\"T_c67ac672_d389_11ea_8ac7_acde48001122row7_col19\" class=\"data row7 col19\" >0.885420</td>\n",
       "            </tr>\n",
       "            <tr>\n",
       "                        <th id=\"T_c67ac672_d389_11ea_8ac7_acde48001122level0_row8\" class=\"row_heading level0 row8\" >8</th>\n",
       "                        <td id=\"T_c67ac672_d389_11ea_8ac7_acde48001122row8_col0\" class=\"data row8 col0\" >-0.306640</td>\n",
       "                        <td id=\"T_c67ac672_d389_11ea_8ac7_acde48001122row8_col1\" class=\"data row8 col1\" >0.168210</td>\n",
       "                        <td id=\"T_c67ac672_d389_11ea_8ac7_acde48001122row8_col2\" class=\"data row8 col2\" >0.985110</td>\n",
       "                        <td id=\"T_c67ac672_d389_11ea_8ac7_acde48001122row8_col3\" class=\"data row8 col3\" >-0.336060</td>\n",
       "                        <td id=\"T_c67ac672_d389_11ea_8ac7_acde48001122row8_col4\" class=\"data row8 col4\" >-0.241600</td>\n",
       "                        <td id=\"T_c67ac672_d389_11ea_8ac7_acde48001122row8_col5\" class=\"data row8 col5\" >0.161860</td>\n",
       "                        <td id=\"T_c67ac672_d389_11ea_8ac7_acde48001122row8_col6\" class=\"data row8 col6\" >-0.053496</td>\n",
       "                        <td id=\"T_c67ac672_d389_11ea_8ac7_acde48001122row8_col7\" class=\"data row8 col7\" >0.430100</td>\n",
       "                        <td id=\"T_c67ac672_d389_11ea_8ac7_acde48001122row8_col8\" class=\"data row8 col8\" >0.573420</td>\n",
       "                        <td id=\"T_c67ac672_d389_11ea_8ac7_acde48001122row8_col9\" class=\"data row8 col9\" >-0.071569</td>\n",
       "                        <td id=\"T_c67ac672_d389_11ea_8ac7_acde48001122row8_col10\" class=\"data row8 col10\" >0.361010</td>\n",
       "                        <td id=\"T_c67ac672_d389_11ea_8ac7_acde48001122row8_col11\" class=\"data row8 col11\" >0.267290</td>\n",
       "                        <td id=\"T_c67ac672_d389_11ea_8ac7_acde48001122row8_col12\" class=\"data row8 col12\" >0.277890</td>\n",
       "                        <td id=\"T_c67ac672_d389_11ea_8ac7_acde48001122row8_col13\" class=\"data row8 col13\" >-0.072268</td>\n",
       "                        <td id=\"T_c67ac672_d389_11ea_8ac7_acde48001122row8_col14\" class=\"data row8 col14\" >0.138380</td>\n",
       "                        <td id=\"T_c67ac672_d389_11ea_8ac7_acde48001122row8_col15\" class=\"data row8 col15\" >-0.267140</td>\n",
       "                        <td id=\"T_c67ac672_d389_11ea_8ac7_acde48001122row8_col16\" class=\"data row8 col16\" >0.129990</td>\n",
       "                        <td id=\"T_c67ac672_d389_11ea_8ac7_acde48001122row8_col17\" class=\"data row8 col17\" >0.229490</td>\n",
       "                        <td id=\"T_c67ac672_d389_11ea_8ac7_acde48001122row8_col18\" class=\"data row8 col18\" >-0.183110</td>\n",
       "                        <td id=\"T_c67ac672_d389_11ea_8ac7_acde48001122row8_col19\" class=\"data row8 col19\" >0.501630</td>\n",
       "            </tr>\n",
       "            <tr>\n",
       "                        <th id=\"T_c67ac672_d389_11ea_8ac7_acde48001122level0_row9\" class=\"row_heading level0 row9\" >9</th>\n",
       "                        <td id=\"T_c67ac672_d389_11ea_8ac7_acde48001122row9_col0\" class=\"data row9 col0\" >-0.189700</td>\n",
       "                        <td id=\"T_c67ac672_d389_11ea_8ac7_acde48001122row9_col1\" class=\"data row9 col1\" >0.050024</td>\n",
       "                        <td id=\"T_c67ac672_d389_11ea_8ac7_acde48001122row9_col2\" class=\"data row9 col2\" >0.190840</td>\n",
       "                        <td id=\"T_c67ac672_d389_11ea_8ac7_acde48001122row9_col3\" class=\"data row9 col3\" >-0.049184</td>\n",
       "                        <td id=\"T_c67ac672_d389_11ea_8ac7_acde48001122row9_col4\" class=\"data row9 col4\" >-0.089737</td>\n",
       "                        <td id=\"T_c67ac672_d389_11ea_8ac7_acde48001122row9_col5\" class=\"data row9 col5\" >0.210060</td>\n",
       "                        <td id=\"T_c67ac672_d389_11ea_8ac7_acde48001122row9_col6\" class=\"data row9 col6\" >-0.549520</td>\n",
       "                        <td id=\"T_c67ac672_d389_11ea_8ac7_acde48001122row9_col7\" class=\"data row9 col7\" >0.098377</td>\n",
       "                        <td id=\"T_c67ac672_d389_11ea_8ac7_acde48001122row9_col8\" class=\"data row9 col8\" >-0.201350</td>\n",
       "                        <td id=\"T_c67ac672_d389_11ea_8ac7_acde48001122row9_col9\" class=\"data row9 col9\" >0.342410</td>\n",
       "                        <td id=\"T_c67ac672_d389_11ea_8ac7_acde48001122row9_col10\" class=\"data row9 col10\" >-0.092677</td>\n",
       "                        <td id=\"T_c67ac672_d389_11ea_8ac7_acde48001122row9_col11\" class=\"data row9 col11\" >0.161000</td>\n",
       "                        <td id=\"T_c67ac672_d389_11ea_8ac7_acde48001122row9_col12\" class=\"data row9 col12\" >-0.132680</td>\n",
       "                        <td id=\"T_c67ac672_d389_11ea_8ac7_acde48001122row9_col13\" class=\"data row9 col13\" >-0.281600</td>\n",
       "                        <td id=\"T_c67ac672_d389_11ea_8ac7_acde48001122row9_col14\" class=\"data row9 col14\" >0.187370</td>\n",
       "                        <td id=\"T_c67ac672_d389_11ea_8ac7_acde48001122row9_col15\" class=\"data row9 col15\" >-0.429590</td>\n",
       "                        <td id=\"T_c67ac672_d389_11ea_8ac7_acde48001122row9_col16\" class=\"data row9 col16\" >0.960390</td>\n",
       "                        <td id=\"T_c67ac672_d389_11ea_8ac7_acde48001122row9_col17\" class=\"data row9 col17\" >0.139720</td>\n",
       "                        <td id=\"T_c67ac672_d389_11ea_8ac7_acde48001122row9_col18\" class=\"data row9 col18\" >-1.078100</td>\n",
       "                        <td id=\"T_c67ac672_d389_11ea_8ac7_acde48001122row9_col19\" class=\"data row9 col19\" >0.405180</td>\n",
       "            </tr>\n",
       "    </tbody></table>"
      ],
      "text/plain": [
       "<pandas.io.formats.style.Styler at 0x1b7b4db90>"
      ]
     },
     "execution_count": 77,
     "metadata": {},
     "output_type": "execute_result"
    }
   ],
   "source": [
    "import pandas as pd\n",
    "df = pd.DataFrame(first_document_update[:10, :20]).astype('float')\n",
    "df.style.set_properties(**{'font-size':'6pt'}).background_gradient('Greys')"
   ]
  },
  {
   "cell_type": "markdown",
   "metadata": {},
   "source": [
    "### Summary"
   ]
  },
  {
   "cell_type": "markdown",
   "metadata": {},
   "source": [
    "### Resources"
   ]
  },
  {
   "cell_type": "markdown",
   "metadata": {},
   "source": [
    "[TorchText Embeddings U Toronto](https://www.cs.toronto.edu/~lczhang/360/lec/w06/w2v.html)"
   ]
  },
  {
   "cell_type": "markdown",
   "metadata": {},
   "source": [
    "[Stanford - Intro to Embeddings](https://www.youtube.com/watch?v=8rXD5-xhemo&list=PLoROMvodv4rOhcuXMZkNm7j3fVwBBY42z)"
   ]
  },
  {
   "cell_type": "markdown",
   "metadata": {},
   "source": [
    "[illustrated guide word2vec](http://jalammar.github.io/illustrated-word2vec/)"
   ]
  }
 ],
 "metadata": {
  "kernelspec": {
   "display_name": "Python 3",
   "language": "python",
   "name": "python3"
  },
  "language_info": {
   "codemirror_mode": {
    "name": "ipython",
    "version": 3
   },
   "file_extension": ".py",
   "mimetype": "text/x-python",
   "name": "python",
   "nbconvert_exporter": "python",
   "pygments_lexer": "ipython3",
   "version": "3.7.4"
  }
 },
 "nbformat": 4,
 "nbformat_minor": 4
}
