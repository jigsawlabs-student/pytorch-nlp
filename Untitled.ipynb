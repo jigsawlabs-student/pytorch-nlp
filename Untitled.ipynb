{
 "cells": [
  {
   "cell_type": "code",
   "execution_count": null,
   "metadata": {},
   "outputs": [],
   "source": [
    "import torch.nn as nn\n",
    "\n",
    "class Net(nn.module):\n",
    "    def __init__(self):\n",
    "        self.l1 = nn.Linear()\n",
    "        self.l2 = nn.Linear()\n",
    "        self.l3 = nn.Linear(, 10 )\n",
    "    def forward(self, X):\n",
    "        A1 = torch.sigmoid(self.l1(X))\n",
    "        A2 = torch.sigmoid(self.l2(A1))\n",
    "        L3 = self.l3(A2)\n",
    "        return F.log_softmax(L3)\n",
    "\n",
    "net = Net()\n",
    "cross_loss = nn.CrossEntropyLoss()\n",
    "from torch.optim import optimizer\n",
    "\n",
    "adam = optimizer.Adam(net.parameters(), lr = .005)"
   ]
  },
  {
   "cell_type": "code",
   "execution_count": null,
   "metadata": {},
   "outputs": [],
   "source": [
    "# 110, 50, 1, 28*28\n",
    "for epoch in range(20):\n",
    "    for X_batch, y_batch in dataset:\n",
    "        net.zero_grad()\n",
    "        # calculate the gradient of the cost function\n",
    "        # how far off are my....PREDICTIONS\n",
    "        predictions = net(X_batch)\n",
    "        loss = cross_loss(predictions, y_batch)\n",
    "        loss.backward()\n",
    "        adam.step()\n",
    "        \n",
    "        \n",
    "    "
   ]
  }
 ],
 "metadata": {
  "kernelspec": {
   "display_name": "Python 3",
   "language": "python",
   "name": "python3"
  },
  "language_info": {
   "codemirror_mode": {
    "name": "ipython",
    "version": 3
   },
   "file_extension": ".py",
   "mimetype": "text/x-python",
   "name": "python",
   "nbconvert_exporter": "python",
   "pygments_lexer": "ipython3",
   "version": "3.7.4"
  }
 },
 "nbformat": 4,
 "nbformat_minor": 4
}
